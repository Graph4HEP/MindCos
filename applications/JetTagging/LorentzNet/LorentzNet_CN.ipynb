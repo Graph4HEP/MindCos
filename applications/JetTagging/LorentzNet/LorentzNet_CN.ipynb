{
 "cells": [
  {
   "cell_type": "markdown",
   "id": "efef4c9b-d2f4-48c1-97a2-35c528737a1d",
   "metadata": {},
   "source": [
    "# LorentzNet: 基于洛伦兹等变性的图神经网络用于高能喷注鉴别\n",
    "\n",
    "## 概述\n",
    "LorentzNet是由中科院、微软亚洲研究院和北京大学等单位的研究人员开发的基于洛伦兹等变性的图神经网络用于高能物理对撞机实验上的喷注鉴别。\n",
    "\n",
    "本教程介绍了LorentzNet的研究背景和技术路径，并展示了如何通过MindSpore训练和快速推断模型。 更多信息可以在以下位置找到：[论文](https://link.springer.com/article/10.1007/JHEP07(2022)030)。"
   ]
  },
  {
   "cell_type": "markdown",
   "id": "c8751fa8-048b-40f1-82f2-1e90244973d0",
   "metadata": {},
   "source": [
    "## 技术路径\n",
    "解决这个问题的具体流程如下：\n",
    "\n",
    "创建数据集\n",
    "\n",
    "模型构建\n",
    "\n",
    "损失函数\n",
    "\n",
    "模型训练"
   ]
  },
  {
   "cell_type": "markdown",
   "id": "056a6963-0500-4e59-ab59-06cd22fd6c83",
   "metadata": {},
   "source": [
    "## LorentzNet\n",
    "\n",
    "LorentzNet是一种用于喷注标记（jet tagging）的洛伦兹群等变图神经网络（Graph Neural Network, GNN），它通过保持洛伦兹对称性来提高深度学习在粒子物理应用中的性能。该模型利用高效的Minkowski点积注意力机制来聚合粒子的四矢量信息，实验结果表明，LorentzNet在两个代表性的喷注标记基准测试中均实现了最佳的标记性能，并且相比于现有的最先进算法有显著提升。此外，LorentzNet在仅有数千个喷注的训练样本下就能达到高度竞争的性能，显示了其出色的泛化能力和样本效率。\n",
    "\n",
    "下图展示了LorentzNet的架构(来源于原始论文)：\n",
    "\n",
    "输入层：接收粒子的4-动量和相关标量信息。\n",
    "\n",
    "Lorentz群等变块（LGEB）：核心组件，通过堆叠实现，处理节点嵌入和坐标嵌入，利用Minkowski点积注意力机制。\n",
    "\n",
    "消息传递：基于Minkowski内积和外积，通过注意力机制聚合粒子间信息。\n",
    "\n",
    "解码层：对最终的节点嵌入进行解码，使用平均池化和全连接层生成分类输出。\n",
    "\n",
    "![LorentzNet](./images/LorenzNet.PNG)\n",
    "\n",
    "\n",
    "\n"
   ]
  },
  {
   "cell_type": "code",
   "execution_count": 1,
   "id": "6580676f-ff16-499f-aaef-1d3cc32123f3",
   "metadata": {},
   "outputs": [],
   "source": [
    "import mindspore as ms\n",
    "import mindspore.nn as nn\n",
    "from mindspore import context\n",
    "\n",
    "from src.dataset import retrieve_dataloaders as loader\n",
    "from src.model import LorentzNet\n",
    "from src.train import train_loop, test_loop, forward_fn\n",
    "\n",
    "context.set_context(mode=1, device_target=\"CPU\")"
   ]
  },
  {
   "cell_type": "markdown",
   "id": "98d31bc6-b101-4c73-ae88-ad95622b0311",
   "metadata": {},
   "source": [
    "### 创建数据集\n",
    "quark-gluon数据集，利用energyflow下载"
   ]
  },
  {
   "cell_type": "code",
   "execution_count": 2,
   "id": "decca30a-6b5b-40df-81f2-8e4cef0a602e",
   "metadata": {},
   "outputs": [],
   "source": [
    "dataset, dataloaders = loader(32, 320)"
   ]
  },
  {
   "cell_type": "markdown",
   "id": "c555392f-ddff-40d3-acc1-22b1b5dbb57b",
   "metadata": {},
   "source": [
    "### 模型构建：\n",
    "参数定义：\n",
    "\n",
    "n_scalar  : 输入节点的特征维度\n",
    "\n",
    "n_hidden  : 隐藏层维度\n",
    "\n",
    "n_class   : 分类标签数目\n",
    "\n",
    "dropout   : dropout rate\n",
    "\n",
    "n_layers  : LGEB模块数目\n",
    "\n",
    "c_weight  : 模型超参数\n"
   ]
  },
  {
   "cell_type": "code",
   "execution_count": 3,
   "id": "eedea05b-c0d1-4d50-a3ef-151ba08db898",
   "metadata": {},
   "outputs": [],
   "source": [
    "model = LorentzNet(n_scalar = 8, n_hidden = 72, n_class = 2,\n",
    "                       dropout = 0.2, n_layers = 6,\n",
    "                       c_weight = 0.001)"
   ]
  },
  {
   "cell_type": "markdown",
   "id": "1745433b-fa73-4d0d-83e2-4dd15e12689c",
   "metadata": {},
   "source": [
    "### 损失函数\n",
    "定义损失函数和优化器"
   ]
  },
  {
   "cell_type": "code",
   "execution_count": 4,
   "id": "20d55035-2def-4ddf-bf44-b72cc798da51",
   "metadata": {},
   "outputs": [],
   "source": [
    "optimizer = nn.AdamWeightDecay(model.trainable_params(), learning_rate=0.0002, weight_decay=0.01)\n",
    "loss_fn = nn.CrossEntropyLoss()"
   ]
  },
  {
   "cell_type": "markdown",
   "id": "67936e43-9ca2-445f-9486-bd589ec4a118",
   "metadata": {},
   "source": [
    "### 模型训练\n",
    "训练模型并保存检查点，利用Mindspore Insight记录训练过程"
   ]
  },
  {
   "cell_type": "code",
   "execution_count": null,
   "id": "035c4158-1e0f-4c92-8242-391994ee2a82",
   "metadata": {},
   "outputs": [],
   "source": [
    "grad_fn = ms.value_and_grad(forward_fn, None, optimizer.parameters, has_aux=True)\n",
    "print('Train')\n",
    "for t in range(35):\n",
    "    print(f\"Epoch {t+1}\\n-------------------------------\")\n",
    "    train_loop(model, dataloaders['train'], loss_fn, grad_fn, optimizer, t, 'LorenzNet_training_CPU')\n",
    "    print()\n",
    "    test_loop(model, dataloaders['val'], loss_fn)\n",
    "\n",
    "print('Test')\n",
    "test_loop(model, dataloaders['test'], loss_fn)\n",
    "print(\"Done!\")"
   ]
  }
 ],
 "metadata": {
  "kernelspec": {
   "display_name": "2030",
   "language": "python",
   "name": "2030"
  },
  "language_info": {
   "codemirror_mode": {
    "name": "ipython",
    "version": 3
   },
   "file_extension": ".py",
   "mimetype": "text/x-python",
   "name": "python",
   "nbconvert_exporter": "python",
   "pygments_lexer": "ipython3",
   "version": "3.9.0"
  }
 },
 "nbformat": 4,
 "nbformat_minor": 5
}
