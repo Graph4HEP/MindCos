{
 "cells": [
  {
   "cell_type": "code",
   "execution_count": 1,
   "id": "9d2c4e81-f964-41d0-9c11-71fe4643cd3e",
   "metadata": {},
   "outputs": [],
   "source": [
    "import mindspore\n",
    "from mindspore import nn, ops, Tensor\n",
    "from mindspore.train import Model\n",
    "import mindspore.numpy as mnp\n",
    "import numpy as np\n",
    "from mindspore.common.initializer import XavierUniform\n",
    "from mindspore import context\n",
    "context.set_context(mode=1, device_target=\"CPU\")\n",
    "from src.model import HeteroNet"
   ]
  },
  {
   "cell_type": "code",
   "execution_count": 2,
   "id": "bb30b0f7-0669-4a64-b514-40492c361585",
   "metadata": {},
   "outputs": [],
   "source": [
    "model = HeteroNet(embed_size=32, clu_node_dim=6, clu_edge_dim=9, trk_node_dim=5, trk_edge_dim=5)"
   ]
  },
  {
   "cell_type": "code",
   "execution_count": 3,
   "id": "1d190cc2-ab8a-4789-9146-abf1da392415",
   "metadata": {},
   "outputs": [],
   "source": [
    "import dgl\n",
    "graphs = dgl.load_graphs('data/sig/sig_2jvv_m50GeV_t1_1_100_heter.bin')\n",
    "g = graphs[0]\n",
    "l = graphs[1]['labels'].numpy()"
   ]
  },
  {
   "cell_type": "code",
   "execution_count": 4,
   "id": "f488be97-5b9b-4023-92fa-25356f170705",
   "metadata": {},
   "outputs": [],
   "source": [
    "import mindspore.dataset as mds\n",
    "ds = mds.NumpySlicesDataset((l, g), column_names=['label', 'graph'], sampler=mds.RandomSampler())"
   ]
  },
  {
   "cell_type": "code",
   "execution_count": 5,
   "id": "3516e414-3ec3-4bb2-9a1b-ec78234c34ee",
   "metadata": {},
   "outputs": [
    {
     "name": "stdout",
     "output_type": "stream",
     "text": [
      "(4, 6)\n",
      "(12, 9)\n",
      "(12,)\n",
      "(10, 5)\n",
      "(90, 5)\n",
      "(90,) <class 'mindspore.common._stub_tensor.StubTensor'> 0\n"
     ]
    }
   ],
   "source": [
    "        clu_ndata = Tensor(g[0].nodes['cluster'].data['scalars'].numpy(), mindspore.float32)\n",
    "        print(clu_ndata.shape)\n",
    "        clu_edata = Tensor(g[0].edges['clu_inter'].data['interact'].numpy(), mindspore.float32)\n",
    "        print(clu_edata.shape)\n",
    "        clu_src, clu_dst = g[0].edges(etype='clu_inter')\n",
    "        clu_src = Tensor(clu_src.numpy())\n",
    "        clu_dst = Tensor(clu_dst.numpy())\n",
    "        print(clu_src.shape)\n",
    "        trk_ndata = Tensor(g[0].nodes['tracker'].data['scalars'].numpy(), mindspore.float32)\n",
    "        print(trk_ndata.shape)\n",
    "        trk_edata = Tensor(g[0].edges['trk_inter'].data['interact'].numpy(), mindspore.float32)\n",
    "        print(trk_edata.shape)\n",
    "        trk_src, trk_dst = g[0].edges(etype='trk_inter')\n",
    "        trk_src = Tensor(trk_src.numpy())\n",
    "        trk_dst = Tensor(trk_dst.numpy())\n",
    "        print(trk_src.shape, type(trk_src[0]), trk_src[0])"
   ]
  },
  {
   "cell_type": "code",
   "execution_count": 6,
   "id": "1892c6c3-1a2a-4152-926d-7afb4a4ee883",
   "metadata": {},
   "outputs": [
    {
     "name": "stdout",
     "output_type": "stream",
     "text": [
      "(4, 32) (12, 32) (10, 32) (90, 32)\n",
      "(12, 32) (12, 32) (12, 32)\n",
      "(12, 96)\n",
      "(4, 32) (12, 32)\n",
      "(90, 32) (90, 32) (90, 32)\n",
      "(90, 96)\n",
      "(10, 32) (90, 32)\n",
      "(12, 32) (12, 32) (12, 32)\n",
      "(12, 96)\n",
      "(4, 32) (12, 32)\n",
      "(90, 32) (90, 32) (12, 32)\n"
     ]
    },
    {
     "ename": "RuntimeError",
     "evalue": "For 'Gather', the 'input_indices' should be in the range [0, 4), but got 4, error_code[58]\n\n----------------------------------------------------\n- C++ Call Stack: (For framework developers)\n----------------------------------------------------\nmindspore/ops/kernel/cpu/gather_cpu_kernel.cc:113 operator()\n",
     "output_type": "error",
     "traceback": [
      "\u001b[0;31m---------------------------------------------------------------------------\u001b[0m",
      "\u001b[0;31mRuntimeError\u001b[0m                              Traceback (most recent call last)",
      "Cell \u001b[0;32mIn[6], line 1\u001b[0m\n\u001b[0;32m----> 1\u001b[0m \u001b[43mmodel\u001b[49m\u001b[43m(\u001b[49m\u001b[43mclu_ndata\u001b[49m\u001b[43m,\u001b[49m\u001b[43m \u001b[49m\u001b[43mclu_edata\u001b[49m\u001b[43m,\u001b[49m\u001b[43m \u001b[49m\u001b[43mclu_src\u001b[49m\u001b[43m,\u001b[49m\u001b[43m \u001b[49m\u001b[43mclu_dst\u001b[49m\u001b[43m,\u001b[49m\u001b[43m \u001b[49m\u001b[43mtrk_ndata\u001b[49m\u001b[43m,\u001b[49m\u001b[43m \u001b[49m\u001b[43mtrk_edata\u001b[49m\u001b[43m,\u001b[49m\u001b[43m \u001b[49m\u001b[43mtrk_src\u001b[49m\u001b[43m,\u001b[49m\u001b[43m \u001b[49m\u001b[43mtrk_dst\u001b[49m\u001b[43m)\u001b[49m\n",
      "File \u001b[0;32m~/miniconda3/envs/2030/lib/python3.9/site-packages/mindspore/nn/cell.py:731\u001b[0m, in \u001b[0;36mCell.__call__\u001b[0;34m(self, *args, **kwargs)\u001b[0m\n\u001b[1;32m    728\u001b[0m \u001b[38;5;28;01mif\u001b[39;00m \u001b[38;5;129;01mnot\u001b[39;00m (\u001b[38;5;28mself\u001b[39m\u001b[38;5;241m.\u001b[39mrequires_grad \u001b[38;5;129;01mor\u001b[39;00m \u001b[38;5;28mself\u001b[39m\u001b[38;5;241m.\u001b[39m_dynamic_shape_inputs \u001b[38;5;129;01mor\u001b[39;00m \u001b[38;5;28mself\u001b[39m\u001b[38;5;241m.\u001b[39mmixed_precision_type):\n\u001b[1;32m    729\u001b[0m     \u001b[38;5;28;01mif\u001b[39;00m \u001b[38;5;129;01mnot\u001b[39;00m (\u001b[38;5;28mself\u001b[39m\u001b[38;5;241m.\u001b[39m_forward_pre_hook \u001b[38;5;129;01mor\u001b[39;00m \u001b[38;5;28mself\u001b[39m\u001b[38;5;241m.\u001b[39m_forward_hook \u001b[38;5;129;01mor\u001b[39;00m \u001b[38;5;28mself\u001b[39m\u001b[38;5;241m.\u001b[39m_backward_pre_hook \u001b[38;5;129;01mor\u001b[39;00m \u001b[38;5;28mself\u001b[39m\u001b[38;5;241m.\u001b[39m_backward_hook \u001b[38;5;129;01mor\u001b[39;00m\n\u001b[1;32m    730\u001b[0m             \u001b[38;5;28mself\u001b[39m\u001b[38;5;241m.\u001b[39m_shard_fn \u001b[38;5;129;01mor\u001b[39;00m \u001b[38;5;28mself\u001b[39m\u001b[38;5;241m.\u001b[39m_recompute_cell \u001b[38;5;129;01mor\u001b[39;00m (\u001b[38;5;28mself\u001b[39m\u001b[38;5;241m.\u001b[39mhas_bprop \u001b[38;5;129;01mand\u001b[39;00m _pynative_executor\u001b[38;5;241m.\u001b[39mrequires_grad())):\n\u001b[0;32m--> 731\u001b[0m         \u001b[38;5;28;01mreturn\u001b[39;00m \u001b[38;5;28;43mself\u001b[39;49m\u001b[38;5;241;43m.\u001b[39;49m\u001b[43mconstruct\u001b[49m\u001b[43m(\u001b[49m\u001b[38;5;241;43m*\u001b[39;49m\u001b[43margs\u001b[49m\u001b[43m,\u001b[49m\u001b[43m \u001b[49m\u001b[38;5;241;43m*\u001b[39;49m\u001b[38;5;241;43m*\u001b[39;49m\u001b[43mkwargs\u001b[49m\u001b[43m)\u001b[49m\n\u001b[1;32m    733\u001b[0m     \u001b[38;5;28;01mreturn\u001b[39;00m \u001b[38;5;28mself\u001b[39m\u001b[38;5;241m.\u001b[39m_run_construct(\u001b[38;5;241m*\u001b[39margs, \u001b[38;5;241m*\u001b[39m\u001b[38;5;241m*\u001b[39mkwargs)\n\u001b[1;32m    735\u001b[0m \u001b[38;5;28;01mreturn\u001b[39;00m \u001b[38;5;28mself\u001b[39m\u001b[38;5;241m.\u001b[39m_complex_call(\u001b[38;5;241m*\u001b[39margs, \u001b[38;5;241m*\u001b[39m\u001b[38;5;241m*\u001b[39mkwargs)\n",
      "File \u001b[0;32m~/MindCos/applications/JetTagging/LLP/src/model.py:111\u001b[0m, in \u001b[0;36mHeteroNet.construct\u001b[0;34m(self, clu_ndata, clu_edata, clu_src, clu_dst, trk_ndata, trk_edata, trk_src, trk_dst)\u001b[0m\n\u001b[1;32m    109\u001b[0m h_clu, e_clu \u001b[38;5;241m=\u001b[39m \u001b[38;5;28mself\u001b[39m\u001b[38;5;241m.\u001b[39mLLPB_clu[i](clu_src, clu_dst, h_clu, e_clu)\n\u001b[1;32m    110\u001b[0m \u001b[38;5;28mprint\u001b[39m(h_clu\u001b[38;5;241m.\u001b[39mshape, e_clu\u001b[38;5;241m.\u001b[39mshape)\n\u001b[0;32m--> 111\u001b[0m h_trk, e_trk \u001b[38;5;241m=\u001b[39m \u001b[38;5;28;43mself\u001b[39;49m\u001b[38;5;241;43m.\u001b[39;49m\u001b[43mLLPB_trk\u001b[49m\u001b[43m[\u001b[49m\u001b[43mi\u001b[49m\u001b[43m]\u001b[49m\u001b[43m(\u001b[49m\u001b[43mtrk_src\u001b[49m\u001b[43m,\u001b[49m\u001b[43m \u001b[49m\u001b[43mtrk_dst\u001b[49m\u001b[43m,\u001b[49m\u001b[43m \u001b[49m\u001b[43mh_trk\u001b[49m\u001b[43m,\u001b[49m\u001b[43m \u001b[49m\u001b[43me_trk\u001b[49m\u001b[43m)\u001b[49m\n\u001b[1;32m    112\u001b[0m \u001b[38;5;28mprint\u001b[39m(h_trk\u001b[38;5;241m.\u001b[39mshape, e_trk\u001b[38;5;241m.\u001b[39mshape)\n\u001b[1;32m    113\u001b[0m h \u001b[38;5;241m=\u001b[39m ops\u001b[38;5;241m.\u001b[39mConcat(\u001b[38;5;241m0\u001b[39m)((h_clu, h_trk))\n",
      "File \u001b[0;32m~/miniconda3/envs/2030/lib/python3.9/site-packages/mindspore/nn/cell.py:731\u001b[0m, in \u001b[0;36mCell.__call__\u001b[0;34m(self, *args, **kwargs)\u001b[0m\n\u001b[1;32m    728\u001b[0m \u001b[38;5;28;01mif\u001b[39;00m \u001b[38;5;129;01mnot\u001b[39;00m (\u001b[38;5;28mself\u001b[39m\u001b[38;5;241m.\u001b[39mrequires_grad \u001b[38;5;129;01mor\u001b[39;00m \u001b[38;5;28mself\u001b[39m\u001b[38;5;241m.\u001b[39m_dynamic_shape_inputs \u001b[38;5;129;01mor\u001b[39;00m \u001b[38;5;28mself\u001b[39m\u001b[38;5;241m.\u001b[39mmixed_precision_type):\n\u001b[1;32m    729\u001b[0m     \u001b[38;5;28;01mif\u001b[39;00m \u001b[38;5;129;01mnot\u001b[39;00m (\u001b[38;5;28mself\u001b[39m\u001b[38;5;241m.\u001b[39m_forward_pre_hook \u001b[38;5;129;01mor\u001b[39;00m \u001b[38;5;28mself\u001b[39m\u001b[38;5;241m.\u001b[39m_forward_hook \u001b[38;5;129;01mor\u001b[39;00m \u001b[38;5;28mself\u001b[39m\u001b[38;5;241m.\u001b[39m_backward_pre_hook \u001b[38;5;129;01mor\u001b[39;00m \u001b[38;5;28mself\u001b[39m\u001b[38;5;241m.\u001b[39m_backward_hook \u001b[38;5;129;01mor\u001b[39;00m\n\u001b[1;32m    730\u001b[0m             \u001b[38;5;28mself\u001b[39m\u001b[38;5;241m.\u001b[39m_shard_fn \u001b[38;5;129;01mor\u001b[39;00m \u001b[38;5;28mself\u001b[39m\u001b[38;5;241m.\u001b[39m_recompute_cell \u001b[38;5;129;01mor\u001b[39;00m (\u001b[38;5;28mself\u001b[39m\u001b[38;5;241m.\u001b[39mhas_bprop \u001b[38;5;129;01mand\u001b[39;00m _pynative_executor\u001b[38;5;241m.\u001b[39mrequires_grad())):\n\u001b[0;32m--> 731\u001b[0m         \u001b[38;5;28;01mreturn\u001b[39;00m \u001b[38;5;28;43mself\u001b[39;49m\u001b[38;5;241;43m.\u001b[39;49m\u001b[43mconstruct\u001b[49m\u001b[43m(\u001b[49m\u001b[38;5;241;43m*\u001b[39;49m\u001b[43margs\u001b[49m\u001b[43m,\u001b[49m\u001b[43m \u001b[49m\u001b[38;5;241;43m*\u001b[39;49m\u001b[38;5;241;43m*\u001b[39;49m\u001b[43mkwargs\u001b[49m\u001b[43m)\u001b[49m\n\u001b[1;32m    733\u001b[0m     \u001b[38;5;28;01mreturn\u001b[39;00m \u001b[38;5;28mself\u001b[39m\u001b[38;5;241m.\u001b[39m_run_construct(\u001b[38;5;241m*\u001b[39margs, \u001b[38;5;241m*\u001b[39m\u001b[38;5;241m*\u001b[39mkwargs)\n\u001b[1;32m    735\u001b[0m \u001b[38;5;28;01mreturn\u001b[39;00m \u001b[38;5;28mself\u001b[39m\u001b[38;5;241m.\u001b[39m_complex_call(\u001b[38;5;241m*\u001b[39margs, \u001b[38;5;241m*\u001b[39m\u001b[38;5;241m*\u001b[39mkwargs)\n",
      "File \u001b[0;32m~/MindCos/applications/JetTagging/LLP/src/model.py:68\u001b[0m, in \u001b[0;36mLLPB.construct\u001b[0;34m(self, i, j, h, e)\u001b[0m\n\u001b[1;32m     67\u001b[0m \u001b[38;5;28;01mdef\u001b[39;00m \u001b[38;5;21mconstruct\u001b[39m(\u001b[38;5;28mself\u001b[39m, i, j, h, e):\n\u001b[0;32m---> 68\u001b[0m     m \u001b[38;5;241m=\u001b[39m \u001b[38;5;28;43mself\u001b[39;49m\u001b[38;5;241;43m.\u001b[39;49m\u001b[43mm_model\u001b[49m\u001b[43m(\u001b[49m\u001b[43mi\u001b[49m\u001b[43m,\u001b[49m\u001b[43m \u001b[49m\u001b[43mj\u001b[49m\u001b[43m,\u001b[49m\u001b[43m \u001b[49m\u001b[43mh\u001b[49m\u001b[43m,\u001b[49m\u001b[43m \u001b[49m\u001b[43me\u001b[49m\u001b[43m)\u001b[49m\n\u001b[1;32m     69\u001b[0m     e \u001b[38;5;241m=\u001b[39m \u001b[38;5;28mself\u001b[39m\u001b[38;5;241m.\u001b[39mx_model(i, j, e, m)\n\u001b[1;32m     70\u001b[0m     h \u001b[38;5;241m=\u001b[39m \u001b[38;5;28mself\u001b[39m\u001b[38;5;241m.\u001b[39mh_model(i, j, h, m)\n",
      "File \u001b[0;32m~/MindCos/applications/JetTagging/LLP/src/model.py:52\u001b[0m, in \u001b[0;36mLLPB.m_model\u001b[0;34m(self, i, j, h, e)\u001b[0m\n\u001b[1;32m     50\u001b[0m \u001b[38;5;28mprint\u001b[39m(h[i]\u001b[38;5;241m.\u001b[39mshape, h[j]\u001b[38;5;241m.\u001b[39mshape, e\u001b[38;5;241m.\u001b[39mshape)\n\u001b[1;32m     51\u001b[0m out \u001b[38;5;241m=\u001b[39m ops\u001b[38;5;241m.\u001b[39mConcat(\u001b[38;5;241m1\u001b[39m)((h[i], h[j], e))\n\u001b[0;32m---> 52\u001b[0m \u001b[38;5;28mprint\u001b[39m(\u001b[43mout\u001b[49m\u001b[38;5;241;43m.\u001b[39;49m\u001b[43mshape\u001b[49m)\n\u001b[1;32m     53\u001b[0m out \u001b[38;5;241m=\u001b[39m \u001b[38;5;28mself\u001b[39m\u001b[38;5;241m.\u001b[39mphi_e(out)\n\u001b[1;32m     54\u001b[0m \u001b[38;5;28;01mreturn\u001b[39;00m out\n",
      "File \u001b[0;32m~/miniconda3/envs/2030/lib/python3.9/site-packages/mindspore/common/_stub_tensor.py:90\u001b[0m, in \u001b[0;36mStubTensor.shape\u001b[0;34m(self)\u001b[0m\n\u001b[1;32m     88\u001b[0m \u001b[38;5;28;01mif\u001b[39;00m \u001b[38;5;28mself\u001b[39m\u001b[38;5;241m.\u001b[39mstub:\n\u001b[1;32m     89\u001b[0m     \u001b[38;5;28;01mif\u001b[39;00m \u001b[38;5;129;01mnot\u001b[39;00m \u001b[38;5;28mhasattr\u001b[39m(\u001b[38;5;28mself\u001b[39m, \u001b[38;5;124m\"\u001b[39m\u001b[38;5;124mstub_shape\u001b[39m\u001b[38;5;124m\"\u001b[39m):\n\u001b[0;32m---> 90\u001b[0m         \u001b[38;5;28mself\u001b[39m\u001b[38;5;241m.\u001b[39mstub_shape \u001b[38;5;241m=\u001b[39m \u001b[38;5;28;43mself\u001b[39;49m\u001b[38;5;241;43m.\u001b[39;49m\u001b[43mstub\u001b[49m\u001b[38;5;241;43m.\u001b[39;49m\u001b[43mget_shape\u001b[49m\u001b[43m(\u001b[49m\u001b[43m)\u001b[49m\n\u001b[1;32m     91\u001b[0m     \u001b[38;5;28;01mreturn\u001b[39;00m \u001b[38;5;28mself\u001b[39m\u001b[38;5;241m.\u001b[39mstub_shape\n\u001b[1;32m     92\u001b[0m \u001b[38;5;28;01mreturn\u001b[39;00m \u001b[38;5;28mself\u001b[39m\u001b[38;5;241m.\u001b[39mtensor\u001b[38;5;241m.\u001b[39mshape\n",
      "\u001b[0;31mRuntimeError\u001b[0m: For 'Gather', the 'input_indices' should be in the range [0, 4), but got 4, error_code[58]\n\n----------------------------------------------------\n- C++ Call Stack: (For framework developers)\n----------------------------------------------------\nmindspore/ops/kernel/cpu/gather_cpu_kernel.cc:113 operator()\n"
     ]
    }
   ],
   "source": [
    "model(clu_ndata, clu_edata, clu_src, clu_dst, trk_ndata, trk_edata, trk_src, trk_dst)"
   ]
  },
  {
   "cell_type": "code",
   "execution_count": null,
   "id": "134daa1c-328a-4748-9136-4576c4aed947",
   "metadata": {},
   "outputs": [],
   "source": []
  },
  {
   "cell_type": "code",
   "execution_count": null,
   "id": "296fc1b7-6ea0-4132-bd18-c8c05a3f0b2b",
   "metadata": {},
   "outputs": [],
   "source": []
  },
  {
   "cell_type": "code",
   "execution_count": null,
   "id": "3f5d1b33-e610-4f28-b196-296dd18e1787",
   "metadata": {},
   "outputs": [],
   "source": []
  },
  {
   "cell_type": "code",
   "execution_count": null,
   "id": "1cd82d6a-07ab-4790-b6f0-ba2da31c5ca5",
   "metadata": {},
   "outputs": [],
   "source": []
  },
  {
   "cell_type": "code",
   "execution_count": null,
   "id": "fdf07573-4ff1-4158-9cad-dd67fc63241a",
   "metadata": {},
   "outputs": [],
   "source": []
  },
  {
   "cell_type": "code",
   "execution_count": null,
   "id": "21be9c6e-75cb-4db4-9b61-9ca8174569a6",
   "metadata": {},
   "outputs": [],
   "source": []
  },
  {
   "cell_type": "code",
   "execution_count": null,
   "id": "7820bc76-a0c6-43dd-8aab-193740c9f5be",
   "metadata": {},
   "outputs": [],
   "source": []
  },
  {
   "cell_type": "code",
   "execution_count": null,
   "id": "bfc2d0c0-75fd-4734-82ab-efafb48d9f9f",
   "metadata": {},
   "outputs": [],
   "source": []
  },
  {
   "cell_type": "raw",
   "id": "c0acefc7-c05a-495a-bd7a-6996e6257773",
   "metadata": {},
   "source": [
    "import time\n",
    "optimizer = nn.AdamWeightDecay(model.trainable_params(), learning_rate=0.001, weight_decay=0.01)\n",
    "loss_fn = nn.CrossEntropyLoss()\n",
    "def forward_fn(clu_ndata, clu_edata, clu_src, clu_dst, trk_ndata, trk_edata, trk_src, trk_dst):\n",
    "    logits = model(clu_ndata, clu_edata, clu_src, clu_dst, trk_ndata, trk_edata, trk_src, trk_dst)\n",
    "    loss = loss_fn(logits, label)\n",
    "    return loss, logits\n",
    "\n",
    "grad_fn = mindspore.value_and_grad(forward_fn, None, optimizer.parameters, has_aux=True)\n",
    "\n",
    "def train_loop(model, ds):\n",
    "    num_batches = len(ds)\n",
    "    model.set_train()\n",
    "    st = 0\n",
    "    total, loss, correct = 0, 0, 0\n",
    "    for i in range(len(ds)): \n",
    "        if i == 0:\n",
    "            st = time.time()\n",
    "        clu_ndata = Tensor(ds[i][1].nodes['cluster'].data['scalars'].numpy()).reshape(1,-1,6)\n",
    "        print(clu_ndata.shape)\n",
    "        clu_edata = Tensor(ds[i][1].edges['clu_inter'].data['interact'].numpy()).reshape(1,-1,9)\n",
    "        print(clu_edata.shape)\n",
    "        clu_src, clu_dst = ds[i][1].edges(etype='clu_inter')\n",
    "        clu_src = Tensor(clu_src.numpy())\n",
    "        clu_dst = Tensor(clu_dst.numpy())\n",
    "        print(clu_src.shape)\n",
    "        trk_ndata = Tensor(ds[i][1].nodes['tracker'].data['scalars'].numpy()).reshape(1,-1,5)\n",
    "        print(trk_ndata.shape)\n",
    "        trk_edata = Tensor(ds[i][1].edges['trk_inter'].data['interact'].numpy()).reshape(1,-1,5)\n",
    "        print(trk_edata.shape)\n",
    "        trk_src, trk_dst = ds[i][1].edges(etype='trk_inter')\n",
    "        trk_src = Tensor(trk_src.numpy())\n",
    "        trk_dst = Tensor(trk_dst.numpy())\n",
    "        print(trk_src.shape)\n",
    "        (_, logits), grads = grad_fn(clu_ndata, clu_edata, clu_src, clu_dst, trk_ndata, trk_edata, trk_src, trk_dst)        \n",
    "        optimizer(grads)\n",
    "        loss += loss_fn(logits, label).asnumpy()\n",
    "        correct += (logits.argmax(1) == label).asnumpy().sum()\n",
    "        total += len(p4s)\n",
    "        print(f\"loss: {loss/(i+1):>7f} acc: {100*correct/total:>0.1f} [{i:>3d}/{num_batches:>3d}] time: [{time.time()-st:>0.1f}/{(time.time()-st)/(i+1)*num_batches:>0.1f}]\")\n"
   ]
  },
  {
   "cell_type": "raw",
   "id": "069ff275-95f9-4dce-8067-9c274f2db183",
   "metadata": {},
   "source": [
    "print('Train')\n",
    "for t in range(10):\n",
    "    print(f\"Epoch {t+1}\\n-------------------------------\")\n",
    "    train_loop(model, ds)"
   ]
  },
  {
   "cell_type": "code",
   "execution_count": null,
   "id": "510fa821-ea4e-4bdd-9ac6-d1b468cbb300",
   "metadata": {},
   "outputs": [],
   "source": []
  },
  {
   "cell_type": "raw",
   "id": "9042569f-fee4-4647-a46f-bc7764684072",
   "metadata": {},
   "source": [
    "\n"
   ]
  },
  {
   "cell_type": "code",
   "execution_count": null,
   "id": "a7f7bd6f-6544-4ef9-95cb-00b63ed86600",
   "metadata": {},
   "outputs": [],
   "source": []
  },
  {
   "cell_type": "code",
   "execution_count": null,
   "id": "9a908764-63c6-432a-a452-8b7983c6753f",
   "metadata": {},
   "outputs": [],
   "source": []
  }
 ],
 "metadata": {
  "kernelspec": {
   "display_name": "2030",
   "language": "python",
   "name": "2030"
  },
  "language_info": {
   "codemirror_mode": {
    "name": "ipython",
    "version": 3
   },
   "file_extension": ".py",
   "mimetype": "text/x-python",
   "name": "python",
   "nbconvert_exporter": "python",
   "pygments_lexer": "ipython3",
   "version": "3.9.0"
  }
 },
 "nbformat": 4,
 "nbformat_minor": 5
}
