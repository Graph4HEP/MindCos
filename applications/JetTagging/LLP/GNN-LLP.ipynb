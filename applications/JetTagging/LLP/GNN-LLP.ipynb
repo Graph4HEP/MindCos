{
 "cells": [
  {
   "cell_type": "code",
   "execution_count": 1,
   "id": "9d2c4e81-f964-41d0-9c11-71fe4643cd3e",
   "metadata": {},
   "outputs": [],
   "source": [
    "import mindspore\n",
    "from mindspore import nn, ops, Tensor\n",
    "from mindspore.train import Model\n",
    "import mindspore.numpy as mnp\n",
    "import numpy as np\n",
    "from mindspore.common.initializer import XavierUniform"
   ]
  },
  {
   "cell_type": "code",
   "execution_count": 2,
   "id": "bb30b0f7-0669-4a64-b514-40492c361585",
   "metadata": {},
   "outputs": [],
   "source": [
    "class Embed(nn.Cell):\n",
    "    def __init__(self, embed_size, clu_node_dim, clu_edge_dim, trk_node_dim, trk_edge_dim):\n",
    "        super(Embed, self).__init__()\n",
    "        self.clu_node_embed = nn.Dense(clu_node_dim, embed_size)\n",
    "        self.clu_edge_embed = nn.Dense(clu_edge_dim, embed_size)\n",
    "        self.trk_node_embed = nn.Dense(trk_node_dim, embed_size)\n",
    "        self.trk_edge_embed = nn.Dense(trk_edge_dim, embed_size)\n",
    "\n",
    "    def construct(self, clu_ndata, clu_edata, trk_ndata, trk_edata):\n",
    "        h_clu = self.clu_node_embed(clu_ndata)\n",
    "        e_clu = self.clu_edge_embed(clu_edata)\n",
    "        h_trk = self.trk_node_embed(trk_ndata)\n",
    "        e_trk = self.trk_edge_embed(trk_edata)\n",
    "        return h_clu, e_clu, h_trk, e_trk"
   ]
  },
  {
   "cell_type": "code",
   "execution_count": 3,
   "id": "1d190cc2-ab8a-4789-9146-abf1da392415",
   "metadata": {},
   "outputs": [],
   "source": [
    "class LLPB(nn.Cell):\n",
    "    def __init__(self, embed_size):\n",
    "        super(LLPB, self).__init__()\n",
    "        self.phi_e = nn.SequentialCell([\n",
    "            nn.Dense(3*embed_size, 3*embed_size, bias_init=0),\n",
    "            nn.BatchNorm1d(3*embed_size),\n",
    "            nn.ReLU(),\n",
    "            nn.Dense(3*embed_size, embed_size, bias_init=0),\n",
    "            nn.ReLU()\n",
    "        ])\n",
    "\n",
    "        layer = nn.Dense(embed_size, 1, has_bias=False, weight_init=XavierUniform(gain=0.001))\n",
    "        self.phi_x = nn.SequentialCell([\n",
    "            nn.Dense(embed_size, embed_size, bias_init=0),\n",
    "            nn.BatchNorm1d(embed_size),\n",
    "            nn.ReLU(),\n",
    "            layer\n",
    "        ])\n",
    "        self.phi_m = nn.SequentialCell([\n",
    "            nn.Dense(embed_size, 1, bias_init=0),\n",
    "            nn.Sigmoid()\n",
    "        ])\n",
    "        self.phi_h = nn.SequentialCell([\n",
    "            nn.Dense(2*embed_size, 2*embed_size, bias_init=0),\n",
    "            nn.BatchNorm1d(2*embed_size),\n",
    "            nn.ReLU(),\n",
    "            nn.Dense(2*embed_size, embed_size, bias_init=0)\n",
    "        ])\n",
    "    # m = phi_e(hi,hj,e)  \n",
    "    def m_model(self, i, j, h, e):\n",
    "        out = ops.Concat(1)((h[i], h[j], e))\n",
    "        out = self.phi_e(out)\n",
    "        return out\n",
    "    # xij = xij + phi_m(mij)xij  \n",
    "    def x_model(self, i, j, e, m):\n",
    "        trans = e * self.phi_m(m)\n",
    "        trans = ops.clip_by_value(trans, -100,100)\n",
    "        e = e + trans\n",
    "        return e\n",
    "    def h_model(self, i, j, h, m):\n",
    "        phim = m * self.phi_m(m)\n",
    "        agg = ops.UnsortedSegmentSum()(phim, i, h.shape[0])\n",
    "        agg = ops.Concat(1)((h, agg))\n",
    "        out = h + self.phi_h(agg)\n",
    "        return out\n",
    "    def construct(self, i, j, h, e):\n",
    "        m = self.m_model(i, j, h, e)\n",
    "        e = self.x_model(i, j, e, m)\n",
    "        h = self.h_model(i, j, h, m)\n",
    "        return h, e"
   ]
  },
  {
   "cell_type": "code",
   "execution_count": 4,
   "id": "f488be97-5b9b-4023-92fa-25356f170705",
   "metadata": {},
   "outputs": [],
   "source": [
    "class HeteroNet(nn.Cell):\n",
    "    def __init__(self, embed_size, clu_node_dim, clu_edge_dim, trk_node_dim, trk_edge_dim,\n",
    "                 n_class = 5, n_layers = 6, c_weight = 1e-3, dropout = 0.1):\n",
    "        super(HeteroNet, self).__init__()\n",
    "        self.embed_size = embed_size\n",
    "        self.n_layers   = n_layers\n",
    "        self.embed = Embed(embed_size, clu_node_dim, clu_edge_dim, trk_node_dim, trk_edge_dim)\n",
    "\n",
    "        self.LLPB_clu = nn.SequentialCell([LLPB(embed_size) for i in range(n_layers)])\n",
    "        self.LLPB_trk = nn.SequentialCell([LLPB(embed_size) for i in range(n_layers)])\n",
    "\n",
    "        self.combine_h  = nn.SequentialCell(  nn.Dense(embed_size, embed_size, bias_init=0),\n",
    "                                        nn.ReLU(),\n",
    "                                        nn.Dense(embed_size, embed_size, bias_init=0),\n",
    "                                        nn.ReLU())\n",
    "\n",
    "        self.combine_e  = nn.SequentialCell(  nn.Dense(embed_size, embed_size, bias_init=0),\n",
    "                                        nn.ReLU(),\n",
    "                                        nn.Dense(embed_size, embed_size, bias_init=0),\n",
    "                                        nn.ReLU())\n",
    "\n",
    "        self.graph_dec = nn.SequentialCell([\n",
    "            nn.Dense(embed_size, embed_size),\n",
    "            nn.ReLU(),\n",
    "            nn.Dropout(p=1-dropout),\n",
    "            nn.Dense(embed_size, n_class)\n",
    "        ])\n",
    "\n",
    "    def construct(self, clu_ndata, clu_edata, clu_src, clu_dst, trk_ndata, trk_edata, trk_src, trk_dst):\n",
    "        h_clu, e_clu, h_trk, e_trk = self.embed(clu_ndata, clu_edata, trk_ndata, trk_edata)\n",
    "        clu_src = clu_src.astype(mindspore.int32)\n",
    "        clu_dst = clu_dst.astype(mindspore.int32)\n",
    "        trk_src = trk_src.astype(mindspore.int32)\n",
    "        trk_dst = trk_dst.astype(mindspore.int32)\n",
    "        for i in range(self.n_layers):\n",
    "            h_clu, e_clu = self.LLPB_clu[i](clu_src, clu_dst, h_clu, e_clu)\n",
    "            h_trk, e_trk = self.LLPB_trk[i](trk_src, trk_dst, h_trk, e_trk)\n",
    "            h = ops.Concat(0)((h_clu, h_trk))\n",
    "            e = ops.Concat(0)((e_clu, e_trk))\n",
    "            h = self.combine_h(h)\n",
    "            e = self.combine_e(e)\n",
    "            h_clu = h[:len(clu_ndata)]\n",
    "            h_trk = h[len(trk_ndata):]\n",
    "            e_clu = e[:len(clu_edata)]\n",
    "            e_trk = e[len(trk_edata):]\n",
    "        print(h.shape)\n",
    "        h = ops.Reshape()(h, (-1, len(clu_ndata)+len(trk_ndata), self.embed_size))\n",
    "        h = ops.ReduceMean(keep_dims=False)(h, 1)\n",
    "        print(h.shape)\n",
    "        pred = self.graph_dec(h)\n",
    "        print(pred.shape)\n",
    "        return pred"
   ]
  },
  {
   "cell_type": "code",
   "execution_count": 5,
   "id": "3516e414-3ec3-4bb2-9a1b-ec78234c34ee",
   "metadata": {},
   "outputs": [],
   "source": [
    "model = HeteroNet(embed_size=32, clu_node_dim=3, clu_edge_dim=3, trk_node_dim=3, trk_edge_dim=3)"
   ]
  },
  {
   "cell_type": "code",
   "execution_count": 6,
   "id": "691dcb0e-9608-49bd-9c58-6dcf1e6240d2",
   "metadata": {},
   "outputs": [],
   "source": [
    "\n",
    "#clu 3 nodes, feature dim=3\n",
    "clu_ndata = Tensor(np.random.rand(3, 3), mindspore.float32)\n",
    "#clu 6 edge, feature dim 3\n",
    "clu_edata = Tensor(np.random.rand(6, 3), mindspore.float32)\n",
    "#clu edge src\n",
    "clu_src = Tensor([0, 0, 1, 1, 2, 2])\n",
    "#clu edge dst\n",
    "clu_dst = Tensor([1, 2, 0, 2, 0, 1])\n",
    "#trk 3 nodes, feature dim=3\n",
    "trk_ndata = Tensor(np.random.rand(3, 3), mindspore.float32)\n",
    "#trk 6 edge, feature dim 3\n",
    "trk_edata = Tensor(np.random.rand(6, 3), mindspore.float32)\n",
    "#trk edge src\n",
    "trk_src = Tensor([0, 0, 1, 1, 2, 2])\n",
    "#trk edge dst\n",
    "trk_dst = Tensor([1, 2, 0, 2, 0, 1])\n"
   ]
  },
  {
   "cell_type": "code",
   "execution_count": 7,
   "id": "4637ffd5-cf49-4878-82f4-e13e24636b87",
   "metadata": {},
   "outputs": [
    {
     "name": "stdout",
     "output_type": "stream",
     "text": [
      "(6, 32)\n",
      "(1, 32)\n",
      "(1, 5)\n"
     ]
    }
   ],
   "source": [
    "pred = model(clu_ndata, clu_edata, clu_src, clu_dst, trk_ndata, trk_edata, trk_src, trk_dst)"
   ]
  },
  {
   "cell_type": "code",
   "execution_count": null,
   "id": "296fc1b7-6ea0-4132-bd18-c8c05a3f0b2b",
   "metadata": {},
   "outputs": [],
   "source": []
  }
 ],
 "metadata": {
  "kernelspec": {
   "display_name": "2030",
   "language": "python",
   "name": "2030"
  },
  "language_info": {
   "codemirror_mode": {
    "name": "ipython",
    "version": 3
   },
   "file_extension": ".py",
   "mimetype": "text/x-python",
   "name": "python",
   "nbconvert_exporter": "python",
   "pygments_lexer": "ipython3",
   "version": "3.9.0"
  }
 },
 "nbformat": 4,
 "nbformat_minor": 5
}
