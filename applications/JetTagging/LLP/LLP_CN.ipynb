{
 "cells": [
  {
   "cell_type": "markdown",
   "id": "1c122df3-980d-4eb7-b47a-08ec1c346808",
   "metadata": {},
   "source": [
    "# 使用深度学习技术在未来的轻子对撞机中寻找长寿命粒子\n",
    "\n",
    "## 概述\n",
    "在寻找超出标准模型（BSM）的物理现象时，长寿命粒子（LLPs）提供了一个明确的信号。它们具有独特的探测器特征，衰变长度对应于纳秒或更长的寿命。电子对撞机允许在干净的环境中进行LLPs搜索，并且当结合深度学习（DL）技术时，这些搜索可以发挥其全部物理潜力。\n",
    "\n",
    "本教程介绍了论文中异构图神经网络的研究背景和技术路径，并展示了如何通过MindSpore训练和快速推断模型。 更多信息可以在以下位置找到：[论文](https://arxiv.org/abs/2401.05094)。"
   ]
  },
  {
   "cell_type": "markdown",
   "id": "c952f47b-3e55-4682-9095-56f4739f0551",
   "metadata": {},
   "source": [
    "## 技术路径\n",
    "解决这个问题的具体流程如下：\n",
    "\n",
    "创建数据集\n",
    "\n",
    "模型构建\n",
    "\n",
    "损失函数\n",
    "\n",
    "模型训练"
   ]
  },
  {
   "cell_type": "markdown",
   "id": "5292f0f2-3f19-46c4-961e-9dd74db6a680",
   "metadata": {},
   "source": [
    "# 异构图神经网络\n",
    "论文使用异构图表征电子对撞机上的正负电子到希格斯玻色子和Z玻色子事例，将电磁量能器和径迹探测器上的探测信号分别表示为图上的两种异构节点和边，通过信息传递机制更新节点和边的表示，通过共享权重进行异构图的信息交换，实现事例的分类。\n",
    "\n",
    "下图为网络架构：\n",
    "\n",
    "![LorentzNet](./images/LLP.PNG)"
   ]
  },
  {
   "cell_type": "code",
   "execution_count": 1,
   "id": "9d2c4e81-f964-41d0-9c11-71fe4643cd3e",
   "metadata": {},
   "outputs": [
    {
     "name": "stderr",
     "output_type": "stream",
     "text": [
      "[WARNING] ME(1153772,7fa36fda0740,python):2024-12-04-16:51:39.091.835 [mindspore/ccsrc/runtime/hardware/device_context_manager.cc:564] SelectGpuPlugin] Env CUDA_HOME is /usr/local/cuda, but can not find suitable gpu plugin.\n"
     ]
    }
   ],
   "source": [
    "import mindspore\n",
    "from mindspore import nn, ops, Tensor\n",
    "from mindspore.train import Model\n",
    "import mindspore.numpy as mnp\n",
    "import numpy as np\n",
    "from mindspore.common.initializer import XavierUniform\n",
    "from mindspore import context\n",
    "context.set_context(mode=1, device_target=\"CPU\")\n",
    "from src.model import HeteroNet"
   ]
  },
  {
   "cell_type": "code",
   "execution_count": 2,
   "id": "bb30b0f7-0669-4a64-b514-40492c361585",
   "metadata": {},
   "outputs": [],
   "source": [
    "model = HeteroNet(embed_size=32, clu_node_dim=6, clu_edge_dim=9, trk_node_dim=5, trk_edge_dim=5)"
   ]
  },
  {
   "cell_type": "code",
   "execution_count": 3,
   "id": "1d190cc2-ab8a-4789-9146-abf1da392415",
   "metadata": {},
   "outputs": [],
   "source": [
    "import dgl\n",
    "graphs = dgl.load_graphs('data/sig/sig_2jvv_m50GeV_t1_1_100_heter.bin')\n",
    "g = graphs[0]\n",
    "l = graphs[1]['labels'].numpy()"
   ]
  },
  {
   "cell_type": "code",
   "execution_count": 4,
   "id": "f488be97-5b9b-4023-92fa-25356f170705",
   "metadata": {},
   "outputs": [],
   "source": [
    "import mindspore.dataset as mds\n",
    "ds = mds.NumpySlicesDataset((l, g), column_names=['label', 'graph'], sampler=mds.RandomSampler())"
   ]
  },
  {
   "cell_type": "code",
   "execution_count": 5,
   "id": "3516e414-3ec3-4bb2-9a1b-ec78234c34ee",
   "metadata": {},
   "outputs": [
    {
     "name": "stdout",
     "output_type": "stream",
     "text": [
      "(4, 6)\n",
      "(12, 9)\n",
      "(12,)\n",
      "(10, 5)\n",
      "(90, 5)\n",
      "(90,) <class 'mindspore.common._stub_tensor.StubTensor'> 0\n"
     ]
    }
   ],
   "source": [
    "        clu_ndata = Tensor(g[0].nodes['cluster'].data['scalars'].numpy(), mindspore.float32)\n",
    "        print(clu_ndata.shape)\n",
    "        clu_edata = Tensor(g[0].edges['clu_inter'].data['interact'].numpy(), mindspore.float32)\n",
    "        print(clu_edata.shape)\n",
    "        clu_src, clu_dst = g[0].edges(etype='clu_inter')\n",
    "        clu_src = Tensor(clu_src.numpy())\n",
    "        clu_dst = Tensor(clu_dst.numpy())\n",
    "        print(clu_src.shape)\n",
    "        trk_ndata = Tensor(g[0].nodes['tracker'].data['scalars'].numpy(), mindspore.float32)\n",
    "        print(trk_ndata.shape)\n",
    "        trk_edata = Tensor(g[0].edges['trk_inter'].data['interact'].numpy(), mindspore.float32)\n",
    "        print(trk_edata.shape)\n",
    "        trk_src, trk_dst = g[0].edges(etype='trk_inter')\n",
    "        trk_src = Tensor(trk_src.numpy())\n",
    "        trk_dst = Tensor(trk_dst.numpy())\n",
    "        print(trk_src.shape, type(trk_src[0]), trk_src[0])"
   ]
  },
  {
   "cell_type": "code",
   "execution_count": 6,
   "id": "1892c6c3-1a2a-4152-926d-7afb4a4ee883",
   "metadata": {
    "scrolled": true
   },
   "outputs": [
    {
     "name": "stdout",
     "output_type": "stream",
     "text": [
      "(4, 32) (12, 32) (10, 32) (90, 32)\n",
      "(12, 32) (12, 32) (12, 32)\n",
      "(12, 96)\n",
      "(4, 32) (12, 32)\n",
      "(90, 32) (90, 32) (90, 32)\n",
      "(90, 96)\n",
      "(10, 32) (90, 32)\n",
      "h (14, 32)\n",
      "e (102, 32)\n",
      "h (14, 32)\n",
      "e (102, 32)\n",
      "hclu (4, 32)\n",
      "htrk (10, 32)\n",
      "eclu (12, 32)\n",
      "etrk (90, 32)\n",
      "(12, 32) (12, 32) (12, 32)\n",
      "(12, 96)\n",
      "(4, 32) (12, 32)\n",
      "(90, 32) (90, 32) (90, 32)\n",
      "(90, 96)\n",
      "(10, 32) (90, 32)\n",
      "h (14, 32)\n",
      "e (102, 32)\n",
      "h (14, 32)\n",
      "e (102, 32)\n",
      "hclu (4, 32)\n",
      "htrk (10, 32)\n",
      "eclu (12, 32)\n",
      "etrk (90, 32)\n",
      "(12, 32) (12, 32) (12, 32)\n",
      "(12, 96)\n",
      "(4, 32) (12, 32)\n",
      "(90, 32) (90, 32) (90, 32)\n",
      "(90, 96)\n",
      "(10, 32) (90, 32)\n",
      "h (14, 32)\n",
      "e (102, 32)\n",
      "h (14, 32)\n",
      "e (102, 32)\n",
      "hclu (4, 32)\n",
      "htrk (10, 32)\n",
      "eclu (12, 32)\n",
      "etrk (90, 32)\n",
      "(12, 32) (12, 32) (12, 32)\n",
      "(12, 96)\n",
      "(4, 32) (12, 32)\n",
      "(90, 32) (90, 32) (90, 32)\n",
      "(90, 96)\n",
      "(10, 32) (90, 32)\n",
      "h (14, 32)\n",
      "e (102, 32)\n",
      "h (14, 32)\n",
      "e (102, 32)\n",
      "hclu (4, 32)\n",
      "htrk (10, 32)\n",
      "eclu (12, 32)\n",
      "etrk (90, 32)\n",
      "(12, 32) (12, 32) (12, 32)\n",
      "(12, 96)\n",
      "(4, 32) (12, 32)\n",
      "(90, 32) (90, 32) (90, 32)\n",
      "(90, 96)\n",
      "(10, 32) (90, 32)\n",
      "h (14, 32)\n",
      "e (102, 32)\n",
      "h (14, 32)\n",
      "e (102, 32)\n",
      "hclu (4, 32)\n",
      "htrk (10, 32)\n",
      "eclu (12, 32)\n",
      "etrk (90, 32)\n",
      "(12, 32) (12, 32) (12, 32)\n",
      "(12, 96)\n",
      "(4, 32) (12, 32)\n",
      "(90, 32) (90, 32) (90, 32)\n",
      "(90, 96)\n",
      "(10, 32) (90, 32)\n",
      "h (14, 32)\n",
      "e (102, 32)\n",
      "h (14, 32)\n",
      "e (102, 32)\n",
      "hclu (4, 32)\n",
      "htrk (10, 32)\n",
      "eclu (12, 32)\n",
      "etrk (90, 32)\n"
     ]
    },
    {
     "data": {
      "text/plain": [
       "Tensor(shape=[1, 5], dtype=Float32, value=\n",
       "[[ 1.77858174e-01, -2.18985915e-01,  2.13854387e-01, -2.72543699e-01,  8.47831070e-02]])"
      ]
     },
     "execution_count": 6,
     "metadata": {},
     "output_type": "execute_result"
    }
   ],
   "source": [
    "model(clu_ndata, clu_edata, clu_src, clu_dst, trk_ndata, trk_edata, trk_src, trk_dst)"
   ]
  },
  {
   "cell_type": "code",
   "execution_count": null,
   "id": "134daa1c-328a-4748-9136-4576c4aed947",
   "metadata": {},
   "outputs": [],
   "source": []
  },
  {
   "cell_type": "code",
   "execution_count": null,
   "id": "296fc1b7-6ea0-4132-bd18-c8c05a3f0b2b",
   "metadata": {},
   "outputs": [],
   "source": []
  },
  {
   "cell_type": "code",
   "execution_count": null,
   "id": "3f5d1b33-e610-4f28-b196-296dd18e1787",
   "metadata": {},
   "outputs": [],
   "source": []
  },
  {
   "cell_type": "code",
   "execution_count": null,
   "id": "1cd82d6a-07ab-4790-b6f0-ba2da31c5ca5",
   "metadata": {},
   "outputs": [],
   "source": []
  },
  {
   "cell_type": "code",
   "execution_count": null,
   "id": "fdf07573-4ff1-4158-9cad-dd67fc63241a",
   "metadata": {},
   "outputs": [],
   "source": []
  },
  {
   "cell_type": "code",
   "execution_count": null,
   "id": "21be9c6e-75cb-4db4-9b61-9ca8174569a6",
   "metadata": {},
   "outputs": [],
   "source": []
  },
  {
   "cell_type": "code",
   "execution_count": null,
   "id": "7820bc76-a0c6-43dd-8aab-193740c9f5be",
   "metadata": {},
   "outputs": [],
   "source": []
  },
  {
   "cell_type": "code",
   "execution_count": null,
   "id": "bfc2d0c0-75fd-4734-82ab-efafb48d9f9f",
   "metadata": {},
   "outputs": [],
   "source": []
  },
  {
   "cell_type": "raw",
   "id": "c0acefc7-c05a-495a-bd7a-6996e6257773",
   "metadata": {},
   "source": [
    "import time\n",
    "optimizer = nn.AdamWeightDecay(model.trainable_params(), learning_rate=0.001, weight_decay=0.01)\n",
    "loss_fn = nn.CrossEntropyLoss()\n",
    "def forward_fn(clu_ndata, clu_edata, clu_src, clu_dst, trk_ndata, trk_edata, trk_src, trk_dst):\n",
    "    logits = model(clu_ndata, clu_edata, clu_src, clu_dst, trk_ndata, trk_edata, trk_src, trk_dst)\n",
    "    loss = loss_fn(logits, label)\n",
    "    return loss, logits\n",
    "\n",
    "grad_fn = mindspore.value_and_grad(forward_fn, None, optimizer.parameters, has_aux=True)\n",
    "\n",
    "def train_loop(model, ds):\n",
    "    num_batches = len(ds)\n",
    "    model.set_train()\n",
    "    st = 0\n",
    "    total, loss, correct = 0, 0, 0\n",
    "    for i in range(len(ds)): \n",
    "        if i == 0:\n",
    "            st = time.time()\n",
    "        clu_ndata = Tensor(ds[i][1].nodes['cluster'].data['scalars'].numpy()).reshape(1,-1,6)\n",
    "        print(clu_ndata.shape)\n",
    "        clu_edata = Tensor(ds[i][1].edges['clu_inter'].data['interact'].numpy()).reshape(1,-1,9)\n",
    "        print(clu_edata.shape)\n",
    "        clu_src, clu_dst = ds[i][1].edges(etype='clu_inter')\n",
    "        clu_src = Tensor(clu_src.numpy())\n",
    "        clu_dst = Tensor(clu_dst.numpy())\n",
    "        print(clu_src.shape)\n",
    "        trk_ndata = Tensor(ds[i][1].nodes['tracker'].data['scalars'].numpy()).reshape(1,-1,5)\n",
    "        print(trk_ndata.shape)\n",
    "        trk_edata = Tensor(ds[i][1].edges['trk_inter'].data['interact'].numpy()).reshape(1,-1,5)\n",
    "        print(trk_edata.shape)\n",
    "        trk_src, trk_dst = ds[i][1].edges(etype='trk_inter')\n",
    "        trk_src = Tensor(trk_src.numpy())\n",
    "        trk_dst = Tensor(trk_dst.numpy())\n",
    "        print(trk_src.shape)\n",
    "        (_, logits), grads = grad_fn(clu_ndata, clu_edata, clu_src, clu_dst, trk_ndata, trk_edata, trk_src, trk_dst)        \n",
    "        optimizer(grads)\n",
    "        loss += loss_fn(logits, label).asnumpy()\n",
    "        correct += (logits.argmax(1) == label).asnumpy().sum()\n",
    "        total += len(p4s)\n",
    "        print(f\"loss: {loss/(i+1):>7f} acc: {100*correct/total:>0.1f} [{i:>3d}/{num_batches:>3d}] time: [{time.time()-st:>0.1f}/{(time.time()-st)/(i+1)*num_batches:>0.1f}]\")\n"
   ]
  },
  {
   "cell_type": "raw",
   "id": "069ff275-95f9-4dce-8067-9c274f2db183",
   "metadata": {},
   "source": [
    "print('Train')\n",
    "for t in range(10):\n",
    "    print(f\"Epoch {t+1}\\n-------------------------------\")\n",
    "    train_loop(model, ds)"
   ]
  },
  {
   "cell_type": "code",
   "execution_count": null,
   "id": "510fa821-ea4e-4bdd-9ac6-d1b468cbb300",
   "metadata": {},
   "outputs": [],
   "source": []
  },
  {
   "cell_type": "raw",
   "id": "9042569f-fee4-4647-a46f-bc7764684072",
   "metadata": {},
   "source": [
    "\n"
   ]
  },
  {
   "cell_type": "code",
   "execution_count": null,
   "id": "a7f7bd6f-6544-4ef9-95cb-00b63ed86600",
   "metadata": {},
   "outputs": [],
   "source": []
  },
  {
   "cell_type": "code",
   "execution_count": null,
   "id": "9a908764-63c6-432a-a452-8b7983c6753f",
   "metadata": {},
   "outputs": [],
   "source": []
  }
 ],
 "metadata": {
  "kernelspec": {
   "display_name": "2030",
   "language": "python",
   "name": "2030"
  },
  "language_info": {
   "codemirror_mode": {
    "name": "ipython",
    "version": 3
   },
   "file_extension": ".py",
   "mimetype": "text/x-python",
   "name": "python",
   "nbconvert_exporter": "python",
   "pygments_lexer": "ipython3",
   "version": "3.9.0"
  }
 },
 "nbformat": 4,
 "nbformat_minor": 5
}
