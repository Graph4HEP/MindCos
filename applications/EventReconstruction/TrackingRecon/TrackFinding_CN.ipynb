{
 "cells": [
  {
   "cell_type": "markdown",
   "id": "582e8275-b602-4f2c-8397-9226938e5610",
   "metadata": {},
   "source": [
    "# 带电粒子径迹重建: 循迹\n",
    "\n",
    "带电粒子径迹的重建是粒子、核与粒子天体物理实验中最重要、也是最复杂和最消耗 CPU 的事例处理链条。径迹重建精度对物理测量精度有直接而显著的影响。同时，未来粒子物理对撞机亮度大幅增加所带来的大量堆积背景和数据率对径迹重建的精度、效率和速度提出了巨大挑战。\n",
    "\n",
    "本教程利用缪子反常磁矩实验的合成径迹数据，基于图神经网络中的边分类任务来实现径迹重建中的径迹寻找任务。"
   ]
  },
  {
   "cell_type": "markdown",
   "id": "a86cdf5c-797e-4f31-a42f-19fa5070959c",
   "metadata": {},
   "source": [
    "## 技术路径\n",
    "解决这个问题的具体流程如下：\n",
    "\n",
    "创建数据集\n",
    "\n",
    "模型构建\n",
    "\n",
    "损失函数\n",
    "\n",
    "模型训练"
   ]
  },
  {
   "attachments": {},
   "cell_type": "markdown",
   "id": "fdb32769-8613-49d8-8fc8-df60633da4b4",
   "metadata": {},
   "source": [
    "### 网络架构\n",
    "\n",
    "![LorentzNet](./images/TrackFinding.PNG)"
   ]
  },
  {
   "cell_type": "code",
   "execution_count": 1,
   "id": "0a5a9cb0-8ded-4ae1-a944-3652a527d6c3",
   "metadata": {},
   "outputs": [],
   "source": [
    "#通用包\n",
    "import numpy as np\n",
    "import os, gc\n",
    "import sys, warnings\n",
    "from datetime import datetime\n",
    "import argparse, json, time\n",
    "import matplotlib.pyplot as plt\n",
    "import warnings\n",
    "warnings.filterwarnings('ignore')\n",
    "\n",
    "#mindspore相关库\n",
    "import mindspore\n",
    "import mindspore.nn as nn  \n",
    "from mindspore import Tensor\n",
    "import mindspore.ops as ops  \n",
    "\n",
    "#louvain相关库\n",
    "import networkx as nx\n",
    "import networkx.algorithms as algos\n",
    "\n",
    "#自有库\n",
    "import src.utils as utils\n",
    "import src.model as model\n",
    "import src.dataset as ds\n",
    "from src.train import train_loop, test_loop, forward_fn"
   ]
  },
  {
   "cell_type": "code",
   "execution_count": 2,
   "id": "d5c6d84b-2eae-4961-89b3-f32b5506fb3b",
   "metadata": {},
   "outputs": [
    {
     "name": "stdout",
     "output_type": "stream",
     "text": [
      "the compilation framework is set to dynamic graph mode\n",
      "[initial seed] >>> seed num set to 827, PID:960817\n",
      "use device CPU\n"
     ]
    }
   ],
   "source": [
    "#定义训练必要参数\n",
    "config = {\n",
    "            'exp_name'      : 'TrackFinding',     \n",
    "            'layer'         : 128,\n",
    "            'batch_size'    : 32,\n",
    "            'gpu'           : 'CPU',\n",
    "            'seed_num'      : 827,\n",
    "            'num_of_epochs' : 10,\n",
    "            'lr'            : 0.0001,\n",
    "            'root_name'     : './data/30996_n2000',\n",
    "            'Ndata'         : 3200,\n",
    "            'graph_mode'    : 1, \n",
    "}\n",
    "\n",
    "#初始化log目录、结果存储和gpu设备\n",
    "logdir = utils.initial(config)\n",
    "#将训练参数进行保存，以备复现\n",
    "with open(f\"{logdir}/config.json\",'w') as config_file:\n",
    "    config_file.write( json.dumps(config, indent=4) )"
   ]
  },
  {
   "cell_type": "markdown",
   "id": "8a90a7b0-6ab1-466d-aa27-8fce8fbb669e",
   "metadata": {},
   "source": [
    "### 创建数据集\n",
    "缪子反常磁矩实验合成径迹数据集，以CERN ROOT格式存储"
   ]
  },
  {
   "cell_type": "code",
   "execution_count": 3,
   "id": "79dbf592-ddb9-4bcd-97ed-2de2f60843b7",
   "metadata": {},
   "outputs": [],
   "source": [
    "#建立数据集\n",
    "src, dst, node_feat, edge_feat, node_match, node_track, edge_label = ds.root_to_data(config['root_name'], mode='coo', Ndata=config['Ndata'])\n",
    "train_set, test_set, apply_set = utils.build_dataset(src, dst, node_feat, edge_feat, edge_label)\n",
    "\n",
    "_, train_loader = utils.batch(train_set, bs=config['batch_size'], shuffle=True, drop_last=True)\n",
    "_, test_loader = utils.batch(test_set, bs=config['batch_size'], shuffle=False, drop_last=True)\n",
    "_, apply_loader = utils.batch(apply_set, bs=config['batch_size'], shuffle=False, drop_last=True)"
   ]
  },
  {
   "cell_type": "markdown",
   "id": "71abfce5-cb61-449b-9a17-f07395cc4d42",
   "metadata": {},
   "source": [
    "### 模型构建：\n",
    "参数定义：\n",
    "\n",
    "embed_size: 嵌入维度和隐藏层维度"
   ]
  },
  {
   "cell_type": "code",
   "execution_count": 4,
   "id": "b403119b-43c8-449f-b4c6-82d31744c9f3",
   "metadata": {},
   "outputs": [
    {
     "name": "stdout",
     "output_type": "stream",
     "text": [
      "Model parameters size: 1043463\n"
     ]
    }
   ],
   "source": [
    "#定义模型、优化器、损失函数\n",
    "net = model.Finding(embed_size=config['layer'])\n",
    "params_size = sum(p.numel() for p in net.trainable_params())\n",
    "print(f\"Model parameters size: {params_size}\")"
   ]
  },
  {
   "cell_type": "markdown",
   "id": "5ad5e39a-87c6-467e-af2e-30a9433ee7de",
   "metadata": {},
   "source": [
    "### 损失函数\n",
    "定义损失函数和优化器"
   ]
  },
  {
   "cell_type": "code",
   "execution_count": 5,
   "id": "dd6026b9-88cb-4689-a750-ef10fecbe6dd",
   "metadata": {},
   "outputs": [],
   "source": [
    "criterion = nn.BCEWithLogitsLoss(reduction='sum')\n",
    "optimizer = nn.Adam(net.trainable_params(), learning_rate=config['lr'], weight_decay=0.01)\n",
    "grad_fn = mindspore.value_and_grad(forward_fn, None, optimizer.parameters, has_aux=True)"
   ]
  },
  {
   "cell_type": "markdown",
   "id": "72a503d9-6c1b-456b-83f7-c563fe1eff81",
   "metadata": {},
   "source": [
    "### 模型训练\n",
    "训练模型并保存检查点，利用Mindspore Insight记录训练过程"
   ]
  },
  {
   "cell_type": "code",
   "execution_count": 6,
   "id": "117adbcd-556e-49b1-9b47-3082a19abfc8",
   "metadata": {},
   "outputs": [
    {
     "name": "stdout",
     "output_type": "stream",
     "text": [
      "Train\n",
      "Epoch 1\n",
      "-------------------------------\n",
      " [**************************************************]100/100 - used 122.8s / left 0.0s / loss 0.4136839674 / acc 0.8074 Valid: \n",
      " Accuracy: 81.6%, Avg loss: 0.242488 \n",
      "\n",
      "Epoch 2\n",
      "-------------------------------\n",
      " [**************************************************]100/100 - used 119.2s / left 0.0s / loss 0.2017527625 / acc 0.8938 Valid: \n",
      " Accuracy: 93.2%, Avg loss: 0.179330 \n",
      "\n",
      "Epoch 3\n",
      "-------------------------------\n",
      " [**************************************************]100/100 - used 125.1s / left 0.0s / loss 0.1617302472 / acc 0.9339 Valid: \n",
      " Accuracy: 94.1%, Avg loss: 0.151917 \n",
      "\n",
      "Epoch 4\n",
      "-------------------------------\n",
      " [**************************************************]100/100 - used 120.3s / left 0.0s / loss 0.1427512181 / acc 0.9430 Valid: \n",
      " Accuracy: 94.6%, Avg loss: 0.142756 \n",
      "\n",
      "Epoch 5\n",
      "-------------------------------\n",
      " [**************************************************]100/100 - used 124.3s / left 0.0s / loss 0.1289977705 / acc 0.9497 Valid: \n",
      " Accuracy: 94.6%, Avg loss: 0.143130 \n",
      "\n",
      "Epoch 6\n",
      "-------------------------------\n",
      " [**************************************************]100/100 - used 117.3s / left 0.0s / loss 0.1198323444 / acc 0.9541 Valid: \n",
      " Accuracy: 94.6%, Avg loss: 0.137944 \n",
      "\n",
      "Epoch 7\n",
      "-------------------------------\n",
      " [**************************************************]100/100 - used 122.8s / left 0.0s / loss 0.1119167834 / acc 0.9573 Valid: \n",
      " Accuracy: 95.7%, Avg loss: 0.116814 \n",
      "\n",
      "Epoch 8\n",
      "-------------------------------\n",
      " [**************************************************]100/100 - used 118.6s / left 0.0s / loss 0.1052157980 / acc 0.9601 Valid: \n",
      " Accuracy: 95.8%, Avg loss: 0.114205 \n",
      "\n",
      "Epoch 9\n",
      "-------------------------------\n",
      " [**************************************************]100/100 - used 122.4s / left 0.0s / loss 0.1003476403 / acc 0.9618 Valid: \n",
      " Accuracy: 96.0%, Avg loss: 0.110430 \n",
      "\n",
      "Epoch 10\n",
      "-------------------------------\n",
      " [**************************************************]100/100 - used 118.4s / left 0.0s / loss 0.0967116562 / acc 0.9634 Valid: \n",
      " Accuracy: 94.8%, Avg loss: 0.127259 \n",
      "\n",
      "Test\n"
     ]
    },
    {
     "ename": "AttributeError",
     "evalue": "module 'src.model' has no attribute 'set_train'",
     "output_type": "error",
     "traceback": [
      "\u001b[0;31m---------------------------------------------------------------------------\u001b[0m",
      "\u001b[0;31mAttributeError\u001b[0m                            Traceback (most recent call last)",
      "Cell \u001b[0;32mIn[6], line 8\u001b[0m\n\u001b[1;32m      5\u001b[0m     test_loop(net, apply_loader, criterion)\n\u001b[1;32m      7\u001b[0m \u001b[38;5;28mprint\u001b[39m(\u001b[38;5;124m'\u001b[39m\u001b[38;5;124mTest\u001b[39m\u001b[38;5;124m'\u001b[39m)\n\u001b[0;32m----> 8\u001b[0m \u001b[43mtest_loop\u001b[49m\u001b[43m(\u001b[49m\u001b[43mmodel\u001b[49m\u001b[43m,\u001b[49m\u001b[43m \u001b[49m\u001b[43mtest_loader\u001b[49m\u001b[43m,\u001b[49m\u001b[43m \u001b[49m\u001b[43mcriterion\u001b[49m\u001b[43m)\u001b[49m\n\u001b[1;32m      9\u001b[0m \u001b[38;5;28mprint\u001b[39m(\u001b[38;5;124m\"\u001b[39m\u001b[38;5;124mDone!\u001b[39m\u001b[38;5;124m\"\u001b[39m)\n",
      "File \u001b[0;32m~/MindCos/applications/EventReconstruction/TrackingRecon/src/train.py:59\u001b[0m, in \u001b[0;36mtest_loop\u001b[0;34m(net, dataloader, criterion)\u001b[0m\n\u001b[1;32m     58\u001b[0m \u001b[38;5;28;01mdef\u001b[39;00m \u001b[38;5;21mtest_loop\u001b[39m(net, dataloader, criterion):\n\u001b[0;32m---> 59\u001b[0m     \u001b[43mnet\u001b[49m\u001b[38;5;241;43m.\u001b[39;49m\u001b[43mset_train\u001b[49m(\u001b[38;5;28;01mFalse\u001b[39;00m)\n\u001b[1;32m     60\u001b[0m     total_n_data, total_loss, total_correct \u001b[38;5;241m=\u001b[39m \u001b[38;5;241m0\u001b[39m, \u001b[38;5;241m0\u001b[39m, \u001b[38;5;241m0\u001b[39m\n\u001b[1;32m     61\u001b[0m     total_n_recon_link, total_n_truth_link \u001b[38;5;241m=\u001b[39m \u001b[38;5;241m0\u001b[39m, \u001b[38;5;241m0\u001b[39m\n",
      "\u001b[0;31mAttributeError\u001b[0m: module 'src.model' has no attribute 'set_train'"
     ]
    }
   ],
   "source": [
    "print('Train')\n",
    "for t in range(config['num_of_epochs']):\n",
    "    print(f\"Epoch {t+1}\\n-------------------------------\")\n",
    "    train_loop(net, train_loader, criterion, grad_fn, optimizer, t, 'TrackFinding_CPU')\n",
    "    test_loop(net, apply_loader, criterion)\n",
    "\n",
    "print('Test')\n",
    "test_loop(net, test_loader, criterion)\n",
    "print(\"Done!\")"
   ]
  },
  {
   "cell_type": "code",
   "execution_count": null,
   "id": "4865c42b-5bfe-468b-9192-0c6df54c9113",
   "metadata": {},
   "outputs": [],
   "source": []
  },
  {
   "cell_type": "code",
   "execution_count": null,
   "id": "be55f383-9f01-486d-8dcb-f8393b43c4ce",
   "metadata": {},
   "outputs": [],
   "source": []
  },
  {
   "cell_type": "code",
   "execution_count": null,
   "id": "3fe191fc-340f-49d2-ae8c-43706f873b7b",
   "metadata": {},
   "outputs": [],
   "source": []
  },
  {
   "cell_type": "code",
   "execution_count": null,
   "id": "8397e010-eeb8-46c4-ba18-8bbd6fc1940c",
   "metadata": {},
   "outputs": [],
   "source": []
  },
  {
   "cell_type": "code",
   "execution_count": null,
   "id": "5e7a73da-5805-410f-a12a-d4dde6e613fe",
   "metadata": {},
   "outputs": [],
   "source": []
  },
  {
   "cell_type": "code",
   "execution_count": null,
   "id": "110e0e5c-12ba-47d7-bd25-c5a903a80b8f",
   "metadata": {},
   "outputs": [],
   "source": []
  }
 ],
 "metadata": {
  "kernelspec": {
   "display_name": "2030",
   "language": "python",
   "name": "2030"
  },
  "language_info": {
   "codemirror_mode": {
    "name": "ipython",
    "version": 3
   },
   "file_extension": ".py",
   "mimetype": "text/x-python",
   "name": "python",
   "nbconvert_exporter": "python",
   "pygments_lexer": "ipython3",
   "version": "3.9.0"
  }
 },
 "nbformat": 4,
 "nbformat_minor": 5
}
