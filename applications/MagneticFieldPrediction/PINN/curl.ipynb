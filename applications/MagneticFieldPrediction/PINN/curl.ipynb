{
 "cells": [
  {
   "cell_type": "code",
   "execution_count": 24,
   "id": "f17990b4-367e-4527-8ed3-c97f32eda8ca",
   "metadata": {},
   "outputs": [
    {
     "name": "stdout",
     "output_type": "stream",
     "text": [
      "0.0007975777\n",
      "Curl at point (1231, 123, 134121): (0.0001717126, -0.00022700988, 0.00074505806)\n",
      "(0.0, 0.0, 0.0)\n"
     ]
    }
   ],
   "source": [
    "import numpy as np  \n",
    "from mindspore import nn, ops, Tensor\n",
    "import mindspore as ms\n",
    "# 定义一个向量场函数  \n",
    "def vector_field(x, y, z):  \n",
    "    # 这里我们定义一个简单的向量场作为示例：F = (yz, xz, xy)  \n",
    "    Fx = y * z  \n",
    "    Fy = x * z  \n",
    "    Fz = x * y \n",
    "    return Fx, Fy, Fz  \n",
    "  \n",
    "# 定义一个函数来计算旋度  \n",
    "def compute_curl(x, y, z, epsilon=1e-5):  \n",
    "    # 计算向量场在 (x, y, z) 点的值  \n",
    "    Fx0, Fy0, Fz0 = vector_field(x, y, z)  \n",
    "      \n",
    "    # 计算向量场在 (x+epsilon, y, z) 点的值，用于计算 partial_Fx_partial_x  \n",
    "    # 计算所有需要的偏导数（使用数值微分）  \n",
    "    Fx_eps_x, Fy_eps_x, Fz_eps_x = vector_field(x + epsilon, y, z)  \n",
    "    partial_Fx_partial_x = (Fx_eps_x - Fx0) / epsilon  \n",
    "    partial_Fy_partial_x = (Fy_eps_x - Fy0) / epsilon  \n",
    "    partial_Fz_partial_x = (Fz_eps_x - Fz0) / epsilon \n",
    "    \n",
    "    Fx_eps_y, Fy_eps_y, Fz_eps_y = vector_field(x, y + epsilon, z)  \n",
    "    partial_Fx_partial_y = (Fx_eps_y - Fx0) / epsilon  \n",
    "    partial_Fy_partial_y = (Fy_eps_y - Fy0) / epsilon  \n",
    "    partial_Fz_partial_y = (Fz_eps_y - Fz0) / epsilon  \n",
    "      \n",
    "    Fx_eps_z, Fy_eps_z, Fz_eps_z = vector_field(x, y, z + epsilon)  \n",
    "    partial_Fx_partial_z = (Fx_eps_z - Fx0) / epsilon  \n",
    "    partial_Fy_partial_z = (Fy_eps_z - Fy0) / epsilon  \n",
    "    partial_Fz_partial_z = (Fz_eps_z - Fz0) / epsilon  \n",
    "      \n",
    "    # 计算旋度  \n",
    "    curl_x = partial_Fz_partial_y - partial_Fy_partial_z  \n",
    "    curl_y = partial_Fx_partial_z - partial_Fz_partial_x  \n",
    "    curl_z = partial_Fy_partial_x - partial_Fx_partial_y  \n",
    "    curl_x = Tensor(curl_x, ms.float32)\n",
    "    curl_y = Tensor(curl_y, ms.float32)\n",
    "    curl_z = Tensor(curl_z, ms.float32)\n",
    "    print(ops.Sqrt()(ops.ReduceMean()(curl_x**2+curl_y**2+curl_z**2)))\n",
    "    return curl_x, curl_y, curl_z  \n",
    "  \n",
    "# 测试数据  \n",
    "x = 1231\n",
    "y = 123\n",
    "z = 134121\n",
    "\n",
    "\n",
    "def compute_div( x, y, z, epsilon=1e11):  \n",
    "    # 计算向量场在 (x, y, z) 点的值  \n",
    "    Fx0, Fy0, Fz0 = vector_field(x, y, z)  \n",
    "      \n",
    "    # 计算向量场在 (x+epsilon, y, z) 点的值，用于计算 partial_Fx_partial_x  \n",
    "    Fx_eps_x, Fy_eps_x, Fz_eps_x = vector_field(x + epsilon, y, z)  \n",
    "    partial_Fx_partial_x = (Fx_eps_x - Fx0) / epsilon \n",
    "    \n",
    "    Fx_eps_y, Fy_eps_y, Fz_eps_y = vector_field(x, y + epsilon, z)  \n",
    "    partial_Fy_partial_y = (Fy_eps_y - Fy0) / epsilon  \n",
    "      \n",
    "    Fx_eps_z, Fy_eps_z, Fz_eps_z = vector_field(x, y, z + epsilon)  \n",
    "    partial_Fz_partial_z = (Fz_eps_z - Fz0) / epsilon   \n",
    "      \n",
    "    return partial_Fx_partial_x, partial_Fy_partial_y, partial_Fy_partial_y \n",
    "    \n",
    "# 计算旋度  \n",
    "curl = compute_curl(x, y, z)  \n",
    "print(f\"Curl at point ({x}, {y}, {z}): ({curl[0]}, {curl[1]}, {curl[2]})\")\n",
    "\n",
    "print(compute_div(x,y,z))"
   ]
  },
  {
   "cell_type": "code",
   "execution_count": 5,
   "id": "e90ffd72-2dd7-4d01-8a97-947a4bbb0d92",
   "metadata": {},
   "outputs": [],
   "source": [
    "def compute_curl_1(networks, x, y, z, epsilon=11):  \n",
    "    # 计算向量场在 (x, y, z) 点的值  \n",
    "    Fx0, Fy0, Fz0 = networks(x, y, z)  \n",
    "      \n",
    "    # 计算向量场在 (x+epsilon, y, z) 点的值，用于计算 partial_Fx_partial_x  \n",
    "    Fx_eps_x, Fy_eps_x, Fz_eps_x = networks(x + epsilon, y, z)  \n",
    "      \n",
    "    # 计算所有需要的偏导数（使用数值微分）  \n",
    "    partial_Fx_partial_x = (Fx_eps_x - Fx0) / epsilon  \n",
    "    partial_Fy_partial_x = (Fy_eps_x - Fy0) / epsilon  \n",
    "    partial_Fz_partial_x = (Fz_eps_x - Fz0) / epsilon \n",
    "    \n",
    "    Fx_eps_y, Fy_eps_y, Fz_eps_y = networks(x, y + epsilon, z)  \n",
    "    partial_Fx_partial_y = (Fx_eps_y - Fx0) / epsilon  \n",
    "    partial_Fy_partial_y = (Fy_eps_y - Fy0) / epsilon  \n",
    "    partial_Fz_partial_y = (Fz_eps_y - Fz0) / epsilon  \n",
    "      \n",
    "    Fx_eps_z, Fy_eps_z, Fz_eps_z = networks(x, y, z + epsilon)  \n",
    "    partial_Fx_partial_z = (Fx_eps_z - Fx0) / epsilon  \n",
    "    partial_Fy_partial_z = (Fy_eps_z - Fy0) / epsilon  \n",
    "    partial_Fz_partial_z = (Fz_eps_z - Fz0) / epsilon  \n",
    "      \n",
    "    # 计算旋度  \n",
    "    curl_x = partial_Fz_partial_y - partial_Fy_partial_z  \n",
    "    curl_y = partial_Fx_partial_z - partial_Fz_partial_x  \n",
    "    curl_z = partial_Fy_partial_x - partial_Fx_partial_y  \n",
    "      \n",
    "    return ops.ReduceMean()(curl_x**2+curl_y**2+curl_z**2)"
   ]
  },
  {
   "cell_type": "code",
   "execution_count": 6,
   "id": "0b02d406-c320-41cf-9438-e80af286a774",
   "metadata": {},
   "outputs": [
    {
     "ename": "TypeError",
     "evalue": "compute_curl_1() missing 1 required positional argument: 'z'",
     "output_type": "error",
     "traceback": [
      "\u001b[0;31m---------------------------------------------------------------------------\u001b[0m",
      "\u001b[0;31mTypeError\u001b[0m                                 Traceback (most recent call last)",
      "Cell \u001b[0;32mIn[6], line 1\u001b[0m\n\u001b[0;32m----> 1\u001b[0m \u001b[43mcompute_curl_1\u001b[49m\u001b[43m(\u001b[49m\u001b[43mx\u001b[49m\u001b[43m,\u001b[49m\u001b[43my\u001b[49m\u001b[43m,\u001b[49m\u001b[43mz\u001b[49m\u001b[43m)\u001b[49m\n",
      "\u001b[0;31mTypeError\u001b[0m: compute_curl_1() missing 1 required positional argument: 'z'"
     ]
    }
   ],
   "source": [
    "compute_curl_1(x,y,z)"
   ]
  },
  {
   "cell_type": "code",
   "execution_count": null,
   "id": "96dc4907-11f2-4076-a30e-51eea80c4fe8",
   "metadata": {},
   "outputs": [],
   "source": []
  },
  {
   "cell_type": "code",
   "execution_count": null,
   "id": "4d970f3e-fe60-4e6a-9a39-b2cdf18c6eb0",
   "metadata": {},
   "outputs": [],
   "source": []
  },
  {
   "cell_type": "code",
   "execution_count": null,
   "id": "790e664f-df62-4ef5-80bd-96ec75e98e17",
   "metadata": {},
   "outputs": [],
   "source": []
  }
 ],
 "metadata": {
  "kernelspec": {
   "display_name": "2030",
   "language": "python",
   "name": "2030"
  },
  "language_info": {
   "codemirror_mode": {
    "name": "ipython",
    "version": 3
   },
   "file_extension": ".py",
   "mimetype": "text/x-python",
   "name": "python",
   "nbconvert_exporter": "python",
   "pygments_lexer": "ipython3",
   "version": "3.9.0"
  }
 },
 "nbformat": 4,
 "nbformat_minor": 5
}
